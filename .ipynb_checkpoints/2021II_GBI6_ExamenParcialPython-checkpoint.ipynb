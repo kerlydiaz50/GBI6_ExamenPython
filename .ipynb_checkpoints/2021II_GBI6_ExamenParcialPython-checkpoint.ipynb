{
 "cells": [
  {
   "cell_type": "markdown",
   "metadata": {},
   "source": [
    "<img src=\"http://localhost:8888/files/Documents/logoikiam.png?_xsrf=2%7Cba595be1%7C0efbed0b0ad427c7c00c27958e26e515%7C1645346002\" width=300 height=240 />\n",
    "\n",
    "\n",
    "# EXAMEN PARCIAL PYTHON\n",
    "    \n",
    "## GBI6-2021II: BIOINFORMÁTICA\n",
    "\n",
    "**Díaz Solórzano, Kerly Jamileth**\n",
    "\n",
    "**18-02-2021**"
   ]
  },
  {
   "cell_type": "markdown",
   "metadata": {},
   "source": [
    "<font color='red'>NO AGREGUE NUEVAS CELDAS, UTILICE ÚNICAMENTE LAS QUE ESTÁN CREADAS</font>\n"
   ]
  },
  {
   "cell_type": "markdown",
   "metadata": {},
   "source": [
    "### REQUERIMIENTOS PARA EL EXAMEN\n",
    "Para este examen se requiere dos documentos: \n",
    "\n",
    "1. Archivo ```miningscience.py``` donde tendrá dos funciones:\n",
    "\n",
    "2. Archivo ```2021II_GBI6_ExamenParcialPython``` donde se llamará las funciones y se obtendrá resultados."
   ]
  },
  {
   "cell_type": "markdown",
   "metadata": {},
   "source": [
    "## Ejercicio 1 [2 puntos]\n",
    "Cree el archivo ```miningscience.py``` con las siguientes dos funciones:\n",
    "    \n",
    "i. ```download_pubmed```: para descargar la data de PubMed utilizando el **ENTREZ** de Biopython. El parámetro de entrada para la función es el ```keyword```. \n",
    "    \n",
    "ii. ```mining_pubs```: esta función debe utilizar el módulo **re** y utilizar el párametro ```tipo``` para realizar lo siguiente:\n",
    "        \n",
    "* Si el tipo es \"DP\" recupera el año de publicación del artículo. El retorno es un *dataframe* con el **PMID** y el **DP_year**.\n",
    "      \n",
    "* Si el tipo es \"AU\" recupera el número de autores por **PMID**. El retorno es un *dataframe* con el **PMID** y el **num_auth**. \n",
    "      \n",
    "* Si el tipo es \"AD\" recupera el conteo de autores por país. El retorno es un *dataframe* con el **country** y el **num_auth**. \n",
    "\n",
    "* *Puede utilizar un ```if``` dentro de la función.* \n",
    "\n",
    "* *Cree un docstring para cada función.* \n",
    "\n",
    "Luego de crear las funciones, cargue el módulo ```miningscience``` como ```msc``` e imprima docstring de cada función.\n",
    "\n",
    "\n"
   ]
  },
  {
   "cell_type": "code",
   "execution_count": 21,
   "metadata": {
    "tags": []
   },
   "outputs": [
    {
     "name": "stdout",
     "output_type": "stream",
     "text": [
      "Help on function download_pubmed in module miningscience:\n",
      "\n",
      "download_pubmed(keyword)\n",
      "    La función download_pubmed, se realizará para descargar la data de PubMed utilizando el ENTREZ de Biopython, esta recibe un argumento que es un keyword, el parámetro de entrada corresponde a este keyword y retorna.\n",
      "\n",
      "Help on function mining_pubs in module miningscience:\n",
      "\n",
      "mining_pubs(tipo, keyword2)\n",
      "    La función mining_pubmed, recibe un argumento/parámetro que es un tipo, este cambiará de acuerdo al objetivo, por lo que si el  tipo es \"DP\" este recupera el año de publicación del artículo, si el tipo es \"AU\" recupera el número de autores por PMID y si es \"AD\" recupera el conteo de autores por país.\n",
      "\n"
     ]
    }
   ],
   "source": [
    "# Cargar el módulo miningscience como msc\n",
    "import miningscience as msc\n",
    "\n",
    "# Imprimir docstrings de ambas funciones creadas en el módulo miningscience\n",
    "help (msc.download_pubmed)\n",
    "help (msc.mining_pubs)"
   ]
  },
  {
   "cell_type": "markdown",
   "metadata": {},
   "source": [
    "\n",
    "## Ejercicio 2 [1 punto]\n",
    "\n",
    "\n",
    "Utilice la función ```download_pubmed``` para descargar la data con el keyword ```Ecuador genomics``` e imprima lo siguiente: \n",
    "\n",
    "```python\n",
    "'El número de artículos es: xx' # xx corresponde al número de artículos recuperados\n",
    "\n",
    "'El PMID del primer artículo es: xxxxxxxx' # xxxxxxxx corresponde al ID del artículo en PUDMED\n",
    "\n",
    "```"
   ]
  },
  {
   "cell_type": "code",
   "execution_count": 22,
   "metadata": {},
   "outputs": [
    {
     "name": "stdout",
     "output_type": "stream",
     "text": [
      "Número de artículos: 55\n",
      "\n",
      "PMID del primer artículo: PMID- 35120121\n",
      "\n"
     ]
    }
   ],
   "source": [
    "# Importar módulos a utilizar\n",
    "import re\n",
    "\n",
    "keyword1 = msc.download_pubmed(\"Ecuador genomics [Title/Abstract]\")\n",
    "keyword2 = re.findall(r'[PMID]{4}\\-.*\\d\\n',keyword1)\n",
    "\n",
    "# Impresión de los resultados\n",
    "print(\"Número de artículos:\", len(keyword2)) \n",
    "print(\"\\nPMID del primer artículo:\", keyword2[0])"
   ]
  },
  {
   "cell_type": "markdown",
   "metadata": {},
   "source": [
    "## Ejercicio 3 [1 punto]\n",
    "\n",
    "Utilice la función ```mining_pubs``` para crear los siguientes dataframes: \n",
    "\n",
    "* pub_year\n",
    "\n",
    "* pub_authors\n",
    "\n",
    "* coutries\n",
    "\n",
    "Muestre los dos primeros y los dos últimos registros de cada dataframe. "
   ]
  },
  {
   "cell_type": "code",
   "execution_count": 23,
   "metadata": {},
   "outputs": [
    {
     "name": "stdout",
     "output_type": "stream",
     "text": [
      "Dataframes para pub_year\n",
      "       PMID  Años\n",
      "0  35120121  2022\n",
      "1  35064679  2022\n",
      "\n",
      "         PMID  Años\n",
      "53  19844075  2010\n",
      "54  19018989  2008\n",
      "\n",
      "\n",
      "Dataframes para pub_authors\n",
      "       PMID  Número de autores\n",
      "0  35120121                 14\n",
      "1  35064679                  7\n",
      "\n",
      "         PMID  Número de autores\n",
      "53  19844075                  2\n",
      "54  19018989                  7\n",
      "\n",
      "\n",
      "Dataframes para countries\n",
      "     country  num_auth\n",
      "0  Australia        22\n",
      "1    Austria         8\n",
      "      country  num_auth\n",
      "56    Uruguay         1\n",
      "57  Venezuela         2\n"
     ]
    }
   ],
   "source": [
    "print (\"Dataframes para pub_year\") # Año de publicación del artículo\n",
    "pubyr = msc.mining_pubs('DP',keyword1)\n",
    "print(pubyr.head(2))\n",
    "print(\"\\n\", pubyr.tail(2))\n",
    "\n",
    "print (\"\\n\\nDataframes para pub_authors\") # Número de autores por PMID\n",
    "pubauth = msc.mining_pubs('AU',keyword1)\n",
    "print(pubauth.head(2))\n",
    "print(\"\\n\", pubauth.tail(2))\n",
    "\n",
    "print (\"\\n\\nDataframes para countries\") # Conteo de autores por país\n",
    "authct = msc.mining_pubs(\"AD\", keyword1)\n",
    "print(authct.head(2))\n",
    "print(authct.tail(2))"
   ]
  },
  {
   "cell_type": "markdown",
   "metadata": {
    "tags": []
   },
   "source": [
    "## Ejercicio 4 [2 puntos]\n",
    "\n",
    "Realice la visualización de los datos del ejercicio 3. \n",
    "\n",
    "* ```pubyear```: utilizando el conteo artículos por año, calcule la media y la desviación estandar (asumiendo que la distribución es normal). Realice un gráfico de la distribución normal de sus datos. Coloque el título, leyenda de los ejes \"x\" e \"y\", y la leyenda de la curva (utilice las expresiones matemáticas tipos latex de ser necesario). \n",
    "\n",
    "* ```pub_authors```: realice un boxplot del conteo de autores por artículo. Coloque las leyendas adecuadas para cada eje y el título.  \n",
    "\n",
    "* ```countries```: realice una nube de puntos (adaptación de su tarea), resalte al menos 3 países con flechas. Coloque las leyendas adecuadas para cada eje y el título. \n"
   ]
  },
  {
   "cell_type": "code",
   "execution_count": 24,
   "metadata": {},
   "outputs": [
    {
     "name": "stdout",
     "output_type": "stream",
     "text": [
      "\tGráfica de la distribución normal\n",
      "\n",
      "\tLista del número de artículos por año: [8, 16, 1, 1, 4, 1, 5, 1, 8, 2, 1, 7]\n",
      "\n",
      "\tMedia: 4.583333333333333\n",
      "\n",
      "\tDesviación estándar:  4.386690729417285\n"
     ]
    },
    {
     "data": {
      "image/png": "[encoded data removed]",
      "text/plain": [
       "<Figure size 720x720 with 1 Axes>"
      ]
     },
     "metadata": {
      "needs_background": "light"
     },
     "output_type": "display_data"
    },
    {
     "name": "stdout",
     "output_type": "stream",
     "text": [
      "\n",
      "\n",
      "\tGráfica de diagrama de caja para pub_authors\n",
      "[14, 7, 9, 10, 7, 7, 9, 16, 4, 12, 10, 7, 9, 26, 3, 11, 23, 6, 8, 18, 15, 13, 8, 7, 9, 11, 23, 6, 3, 9, 15, 26, 19, 13, 38, 1, 0, 9, 2, 10, 3, 7, 13, 22, 9, 2, 6, 8, 62, 12, 2, 10, 8, 2, 7]\n"
     ]
    },
    {
     "data": {
      "image/png": "[encoded data removed]",
      "text/plain": [
       "<Figure size 720x360 with 1 Axes>"
      ]
     },
     "metadata": {
      "needs_background": "light"
     },
     "output_type": "display_data"
    },
    {
     "data": {
      "image/png": "[encoded data removed]",
      "text/plain": [
       "<Figure size 432x288 with 2 Axes>"
      ]
     },
     "metadata": {
      "needs_background": "light"
     },
     "output_type": "display_data"
    }
   ],
   "source": [
    "# Paquetes o módulos a utilizar\n",
    "import csv\n",
    "import pandas as pd\n",
    "import numpy as np\n",
    "import scipy.stats as stats\n",
    "import matplotlib.pyplot as plt\n",
    "\n",
    "############ Pubyear ############\n",
    "print (\"\\tGráfica de la distribución normal\")\n",
    "pubyr1 = pubyr.iloc[:,1]\n",
    "pubyr2 = pd.Series(pubyr1)\n",
    "pubyr3 = list(set(pubyr2))\n",
    "pubyr4=pubyr2\n",
    "pubyr5=pubyr3\n",
    "pubyr6=[0]*len(pubyr5)\n",
    "\n",
    "k=0\n",
    "for i in pubyr5:\n",
    "    d=0\n",
    "    for j in pubyr4:\n",
    "        if i == str(j):\n",
    "            d=d+1\n",
    "    pubyr6[k]=d\n",
    "    k=k+1\n",
    "\n",
    "print (\"\\n\\tLista del número de artículos por año:\", pubyr6)\n",
    "mean = np.average(pubyr6)\n",
    "print (\"\\n\\tMedia:\", mean)\n",
    "stand = np.std(pubyr6)\n",
    "print (\"\\n\\tDesviación estándar: \",stand)\n",
    "x = np.linspace(mean - 3*stand, mean + 3*stand, 100)\n",
    "# Leyenda de la curva\n",
    "sigma = stand\n",
    "label = '$\\mu = %.1f, \\ \\sigma^2=%.1f$' %(mean, stand)\n",
    "y_norm = stats.norm.pdf(x, mean, sigma)\n",
    "# Representación gráfica de la desviación estándar\n",
    "plt.plot(x, y_norm, label=label, c = 'magenta')\n",
    "plt.xlabel(\"Número de publicaciones\")\n",
    "plt.ylabel(\"Probabilidad del número de publicaciones\")\n",
    "plt.title(\"Distribución Normal\")\n",
    "plt.legend(title = \"Parámetros de la gráfica\")\n",
    "plt.show()\n",
    "\n",
    "############ Pub_authors ############\n",
    "print (\"\\n\\n\\tGráfica de diagrama de caja para pub_authors\")\n",
    "pubauth1 = pubauth.iloc[:,1]\n",
    "pubauth2 = pd.Series(pubauth1)\n",
    "pubauth3 = pubauth2.tolist()\n",
    "print(pubauth3)\n",
    "fig = plt.figure(1, figsize=(10,5))\n",
    "axes = fig.add_subplot(111)\n",
    "boxplot1 = axes.boxplot(pubauth3)\n",
    "# Leyendas de la representación gráfica\n",
    "plt.xlabel('Autores de artículos')\n",
    "plt.ylabel('Número de autores')\n",
    "plt.title('Diagrama de caja del conteo de autores por artículo')\n",
    "plt.show()\n",
    "\n",
    "############ Countries ############\n",
    "import re\n",
    "import csv\n",
    "\n",
    "authct1 = authct.iloc[:,0]\n",
    "authct2 = authct.iloc[:,1]\n",
    "unique_ADpaisesTotal = pd.Series(authct1)\n",
    "authct3 = pd.Series(authct2)\n",
    "authct4 = authct3.tolist()\n",
    "\n",
    "worldcoord = {}\n",
    "with open('data/countries.txt') as f:\n",
    "    csvr = csv.DictReader(f)\n",
    "    for row in csvr:\n",
    "        worldcoord [row['Name']] = [row['Latitude'], row['Longitude']]\n",
    "\n",
    "sortcountries = []\n",
    "longitudect = []\n",
    "latitudect = []\n",
    "quantct = authct4\n",
    "\n",
    "for i in unique_ADpaisesTotal:\n",
    "    if i in worldcoord.keys():\n",
    "        sortcountries.append(i)\n",
    "        latitudect.append(float(worldcoord[i][0]))\n",
    "        longitudect.append(float(worldcoord[i][1]))    \n",
    "\n",
    "import matplotlib\n",
    "import matplotlib.pyplot as plt\n",
    "\n",
    "%matplotlib inline\n",
    "plt.scatter(longitudect, latitudect, s = quantct, c = quantct)\n",
    "plt.colorbar()\n",
    "\n",
    "# USA, UK, Brazil, China, Australia, Noruega; con ayuda del data set de la ubicación \n",
    "# geográfica de los países, seleccionamos las longitudes y latitudes de los países \n",
    "# de interés\n",
    "ard = dict(arrowstyle=\"->\")\n",
    "plt.annotate('USA', xy = (-95.712891, 37.09024), \n",
    "               xytext = (-95.712891, 40), arrowprops = ard)\n",
    "plt.annotate('UK', xy = (31.16558, 48.379433), \n",
    "               xytext = (31.16558, 51), arrowprops= ard)\n",
    "plt.annotate('Brazil', xy = (-51.92528, -14.235004), \n",
    "               xytext = (-51.92528, -11), arrowprops= ard)\n",
    "plt.annotate('China', xy = (104.195397, 35.86166), \n",
    "               xytext = (104.195397, 39), arrowprops= ard)\n",
    "plt.annotate('Australia', xy = (133.775136, -25.274398), \n",
    "               xytext = (133.775136, -22), arrowprops= ard)\n",
    "plt.annotate('Noruega', xy = (8.468946, 60.472024), \n",
    "               xytext = (8.468946, 63), arrowprops= ard)\n",
    "# Leyenda y título\n",
    "plt.xlabel('Longitud')\n",
    "plt.ylabel('Latitud')\n",
    "plt.title('Gráfica de nube de puntos de los países')\n",
    "plt.rcParams[\"figure.figsize\"] = (10,10)\n",
    "plt.show()"
   ]
  },
  {
   "cell_type": "markdown",
   "metadata": {},
   "source": [
    "## Ejercicio 5 [1 punto]\n",
    "\n",
    "###  Distribución normal del conteo artículos por año\n",
    "El gráfico de la distribución estándar tiene dos parámetros, los cuales se pueden identificar en la leyenda (media y desviación estándar), la media de los datos registrados tiene un valor de 4.6 y la desviación estándar de 4.4. Dado que se consideró la distribución como normal, se puede deducir que la distribución de los datos es continua, es decir, simétrica alrededor de la media calculada. Es así que la mayoría de las observaciones/datos se agrupan alrededor del pico central y las probabilidades de los valores más alejados o lejanos de la media disminuyen en ambas direcciones. A pesar de que la distribución de los datos es buena, la desviación estándar indica qué tan dispersos están los datos con respecto a la media, por lo que, mientras mayor sea la esta, mayor será la dispersión de los datos. No obstante, este valor fue de 4.4, es decir, menor que el valor de la media, por lo tanto, se podría deducir que a pesar de que la distribución es simétrica, pero no existe una buena dispersión de los datos. \n",
    "\n",
    "###  Diagrama de caja \n",
    "En el boxplot del conteo de autores por artículo, se puede observar que este presenta 4 valores atípicos los cuales pueden están muy alejados de otros valores de datos, y pueden afectar fuertemente los resultados ya presentados. También, se observa la mediana, que está representada por la línea en la caja, es la mitad de las observaciones, de acuerdo a la gráfica este valor es aproximadamente de 10. De acuerdo a los cuartiles, Q1 podría tratarse del valor 9 y el Q3 del valor 15, esto significaría que el 50% central de la variable oscila entre los valores de 9 y 15. Por último, podemos analizar la dispersión de las puntuaciones dentro de una variable. En este boxplot se puede identificar que es una variable con una dispersión de puntuaciones pequeña con respecto al conteo de autores por artículo. \n",
    "\n",
    "###  Nube de punto de países\n",
    "En esta gráfica es posible visualizar el conteo de autores por país y como están ubicados geográficamente, mediante la nube de puntos y la barra de color, se puede comprender que los países seleccionados, como USA tiene aproximadamente un 90% y 100% de total de autores que han realizado investigaciones sobre Ecuador_genomics o genómica de Ecuador, después se puede observar que UK, Noruega y China representan el ~20% de autores que han realizados dichas investigaciones, en el caso de Brazil, este comprende aproximadamente un 40%, finalmente en el caso de Australia se acerca ~45%. "
   ]
  },
  {
   "cell_type": "markdown",
   "metadata": {},
   "source": [
    "## Ejercicio 6 [2 puntos]\n",
    "\n",
    "Para algún gen de interés, realice lo siguiente: \n",
    "\n",
    "1. Una búsqueda en la página del [NCBI nucleotide](https://www.ncbi.nlm.nih.gov/nucleotide/).\n",
    "\n",
    "2. Descargue el ```Accession List``` de su búsqueda.\n",
    "\n",
    "3. Cargue el ```Accession List``` en este notebook y haga una descarga de la data tipo ```genbank``` utilizando los diez primeros IDs de accesión. \n",
    "\n",
    "4. Arme un árbol filogenético para los resultados del paso 3.\n",
    "\n",
    "5. Interprete el árbol del paso 4. "
   ]
  },
  {
   "cell_type": "code",
   "execution_count": 25,
   "metadata": {},
   "outputs": [
    {
     "name": "stdout",
     "output_type": "stream",
     "text": [
      "Requirement already satisfied: biopython in c:\\users\\usuario\\anaconda3\\lib\\site-packages (1.79)\n",
      "Requirement already satisfied: numpy in c:\\users\\usuario\\anaconda3\\lib\\site-packages (from biopython) (1.20.3)\n",
      "AB457039.1 Paralichthys olivaceus csf1r mRNA for colony stimu...\n",
      "Sequence length 762, 3 features, from: Paralichthys olivaceus (Japanese flounder)\n",
      "AB526448.1 Cyprinus carpio M-CSFR mRNA for macrophage colony-...\n",
      "Sequence length 1495, 3 features, from: Cyprinus carpio (common carp)\n",
      "AB546838.1 Paralichthys olivaceus csf1r mRNA for colony stimu...\n",
      "Sequence length 714, 3 features, from: Paralichthys olivaceus (Japanese flounder)\n",
      "AF056985.1 AF056985 Chromosome 5q33 transcripts Homo sapiens ...\n",
      "Sequence length 181, 1 features, from: Homo sapiens (human)\n",
      "AF056986.1 AF056986 Chromosome 5q33 transcripts Homo sapiens ...\n",
      "Sequence length 132, 1 features, from: Homo sapiens (human)\n",
      "AF056987.1 AF056987 Chromosome 5q33 transcripts Homo sapiens ...\n",
      "Sequence length 300, 1 features, from: Homo sapiens (human)\n",
      "AF056988.1 AF056988 Chromosome 5q33 transcripts Homo sapiens ...\n",
      "Sequence length 166, 1 features, from: Homo sapiens (human)\n",
      "AF056989.1 AF056989 Chromosome 5q33 transcripts Homo sapiens ...\n",
      "Sequence length 284, 1 features, from: Homo sapiens (human)\n",
      "AF056990.1 AF056990 Chromosome 5q33 transcripts Homo sapiens ...\n",
      "Sequence length 155, 1 features, from: Homo sapiens (human)\n",
      "AF056991.1 AF056991 Chromosome 5q33 transcripts Homo sapiens ...\n",
      "Sequence length 176, 1 features, from: Homo sapiens (human)\n",
      "https://eutils.ncbi.nlm.nih.gov/entrez/eutils/efetch.fcgi?db=nucleotide&rettype=gb&retmode=text&id=AB457039.1%2CAB526448.1%2CAB546838.1%2CAF056985.1%2CAF056986.1%2CAF056987.1%2CAF056988.1%2CAF056989.1%2CAF056990.1%2CAF056991.1&tool=biopython&email=kerly.diaz%40est.ikiam.edu.ec\n",
      "Converted 10 records\n",
      "\"C:\\Program Files (x86)\\ClustalW2\\clustalw2.exe\" -infile=sequence.fasta\n",
      "Alignment with 10 rows and 1741 columns\n",
      "--------------------------------------------...--- AB457039.1\n",
      "CTCACCGCGGTCTGTCCATCGAGGTTAACGAAGGCGAAGATGTG...--- AB526448.1\n",
      "--------------------------------------------...CCA AB546838.1\n",
      "--------------------------------------------...--- AF056990.1\n",
      "--------------------------------------------...--- AF056986.1\n",
      "--------------------------------------------...--- AF056985.1\n",
      "--------------------------------------------...--- AF056987.1\n",
      "--------------------------------------------...--- AF056991.1\n",
      "--------------------------------------------...--- AF056988.1\n",
      "--------------------------------------------...--- AF056989.1\n",
      "                                             _______________ AB457039.1\n",
      "                                    ________|\n",
      "          _________________________|        |___________________ AB526448.1\n",
      "         |                         |\n",
      "  _______|                         |___________________________ AB546838.1\n",
      " |       |\n",
      " |       |__________________________________________________ AF056990.1\n",
      " |\n",
      " |         ______________________________________________________ AF056985.1\n",
      " |      __|\n",
      " |   __|  |_______________________________________________________ AF056987.1\n",
      "_|  |  |\n",
      " |__|  |______________________________________________________ AF056986.1\n",
      " |  |\n",
      " |  |___________________________________________________________ AF056991.1\n",
      " |\n",
      " |____________________________________________________________ AF056989.1\n",
      " |\n",
      " |_____________________________________________________________ AF056988.1\n",
      "\n",
      "Requirement already satisfied: PyDot in c:\\users\\usuario\\anaconda3\\lib\\site-packages (1.4.2)\n",
      "Requirement already satisfied: pyparsing>=2.1.4 in c:\\users\\usuario\\anaconda3\\lib\\site-packages (from PyDot) (3.0.4)\n",
      "<class 'Bio.Align.MultipleSeqAlignment'>\n",
      "AB457039.1\t0\n",
      "AB526448.1\t0.5623205054566341\t0\n",
      "AB546838.1\t0.27570361860999426\t0.8024124066628374\t0\n",
      "AF056990.1\t0.39804709936817917\t0.8242389431361287\t0.36990235496840895\t0\n",
      "AF056986.1\t0.4129810453762206\t0.8322802986789202\t0.3854106835152211\t0.06892590465249859\t0\n",
      "AF056985.1\t0.41068351522113733\t0.8271108558299828\t0.38311315336013785\t0.07926479035037337\t0.07983917288914422\t0\n",
      "AF056987.1\t0.41355542791499134\t0.8431935669155658\t0.3687535898908674\t0.14819069500287196\t0.1568064330844342\t0.13038483630097641\t0\n",
      "AF056991.1\t0.41355542791499134\t0.832854681217691\t0.3865594485927628\t0.07294658242389429\t0.07581849511774841\t0.09075244112578973\t0.14244686961516373\t0\n",
      "AF056988.1\t0.41355542791499134\t0.8282596209075244\t0.38598506605399197\t0.06892590465249859\t0.07122343480758186\t0.08271108558299822\t0.14417001723147616\t0.07926479035037337\t0\n",
      "AF056989.1\t0.39632395175186674\t0.8104537622056289\t0.3681792073520965\t0.13383113153360138\t0.13900057438253877\t0.128661688684664\t0.14933946008041354\t0.12981045376220568\t0.13383113153360138\t0\n",
      "\tAB457039.1\tAB526448.1\tAB546838.1\tAF056990.1\tAF056986.1\tAF056985.1\tAF056987.1\tAF056991.1\tAF056988.1\tAF056989.1\n",
      "Tree(rooted=True)\n",
      "    Clade(branch_length=0, name='Inner8')\n",
      "        Clade(branch_length=0.0008884979896611189, name='Inner7')\n",
      "            Clade(branch_length=0.0012474870763928628, name='Inner6')\n",
      "                Clade(branch_length=0.03962042887229561, name='AF056991.1')\n",
      "                Clade(branch_length=0.009399530920926685, name='Inner5')\n",
      "                    Clade(branch_length=0.03654508902929349, name='AF056985.1')\n",
      "                    Clade(branch_length=0.024088167719701313, name='Inner4')\n",
      "                        Clade(branch_length=0.07572515795519816, name='AF056987.1')\n",
      "                        Clade(branch_length=0.00533457782883405, name='Inner3')\n",
      "                            Clade(branch_length=0.060561458931648465, name='AF056989.1')\n",
      "                            Clade(branch_length=0.15569356691556574, name='Inner2')\n",
      "                                Clade(branch_length=0.10841470419299254, name='Inner1')\n",
      "                                    Clade(branch_length=0.0645103388856978, name='AB457039.1')\n",
      "                                    Clade(branch_length=0.49781016657093635, name='AB526448.1')\n",
      "                                Clade(branch_length=0.14948305571510623, name='AB546838.1')\n",
      "            Clade(branch_length=0.03242568925904654, name='AF056990.1')\n",
      "        Clade(branch_length=0.03548607122343482, name='AF056986.1')\n",
      "        Clade(branch_length=0.035737363584147044, name='AF056988.1')\n"
     ]
    },
    {
     "data": {
      "image/png": "[encoded data removed]",
      "text/plain": [
       "<Figure size 1300x500 with 1 Axes>"
      ]
     },
     "metadata": {
      "needs_background": "light"
     },
     "output_type": "display_data"
    }
   ],
   "source": [
    "# Importar los paquetes principales\n",
    "\n",
    "#!pip install biopython\n",
    "from Bio import SeqIO\n",
    "from Bio import AlignIO\n",
    "from Bio import Phylo\n",
    "from Bio import Entrez \n",
    "\n",
    "# Cargar el Accesion list de la búsqueda realizada en el NCBI\n",
    "# gen de interés: CSF1R\n",
    "import pandas as pd \n",
    "CSF1Rfile = pd.read_table('data/CSF1R.seq')\n",
    "CSF1Rfile\n",
    "\n",
    "# Descargar la data tipo genbank utilizando los diez primeros IDs de accesión\n",
    "id_list = [\"AB457039.1\",\"AB526448.1\",\"AB546838.1\",\"AF056985.1\",\"AF056986.1\",\"AF056987.1\",\"AF056988.1\",\"AF056989.1\",\"AF056990.1\",\"AF056991.1\"]\n",
    "Entrez.email = \"kerly.diaz@est.ikiam.edu.ec\"\n",
    "with Entrez.efetch( db=\"nucleotide\", rettype=\"gb\", retmode=\"text\", id= id_list\n",
    "                  ) as handle:\n",
    "    for seq_record in SeqIO.parse(handle, \"gb\"):\n",
    "        print(\"%s %s...\" % (seq_record.id, seq_record.description[:50]))\n",
    "        print(\"Sequence length %i, %i features, from: %s\" % ( len(seq_record), \n",
    "                                                              len(seq_record.features), \n",
    "                                                              seq_record.annotations[\"source\"], ) )\n",
    "\n",
    "# Obtención del url que contiene los 10 primeros IDs de accesión en formato genbank\n",
    "print(handle.url)\n",
    "        \n",
    "######### Árbol filogenético #########\n",
    "# Alineamiento de secuencias\n",
    "\n",
    "# Primero: Importar modulos\n",
    "from Bio.Align.Applications import ClustalwCommandline\n",
    "import os\n",
    "\n",
    "# Segundo: Transformacion de tipos de archivos genbank --> fasta\n",
    "records = SeqIO.parse(\"data/sequence.gb\", \"genbank\") \n",
    "count = SeqIO.write(records, \"data/sequence.fasta\", \"fasta\") \n",
    "print(\"Converted %i records\" % count)\n",
    "\n",
    "# Tercero: Cargar data multiple y crear alineamientos\n",
    "clustalw_exe = r\"C:\\Program Files (x86)\\ClustalW2\\clustalw2.exe\" \n",
    "clustalw_cline = ClustalwCommandline(clustalw_exe, infile = \"data/sequence.fasta\")\n",
    "assert os.path.isfile(clustalw_exe), \"Clustal_W executable is missing or not found\"\n",
    "stdout, stderr = clustalw_cline()\n",
    "print(clustalw_cline)\n",
    "\n",
    "# Cuarto: Leer alineamiento\n",
    "ClustalAlign = AlignIO.read(\"data/sequence.aln\", \"clustal\")\n",
    "print(ClustalAlign)\n",
    "\n",
    "# Quinto: Generar Dendogram (Tree)\n",
    "tree = Phylo.read(\"data/sequence.dnd\", \"newick\")\n",
    "Phylo.draw_ascii(tree)\n",
    "\n",
    "# Instalar paquete PyDot\n",
    "#! pip install PyDot\n",
    "\n",
    "# Sexto: Cargar el alineamiento \n",
    "with open(\"data/sequence.aln\",\"r\") as aln: \n",
    "    alignment = AlignIO.read(aln,\"clustal\")\n",
    "print(type(alignment))\n",
    "\n",
    "# Septimo: Inicializar la calculadora de Distancias y del modelo \n",
    "from Bio.Phylo.TreeConstruction import DistanceCalculator \n",
    "calculator = DistanceCalculator('identity')\n",
    "\n",
    "# Octavo: Matriz de Distancias \n",
    "distance_matrix = calculator.get_distance(alignment)\n",
    "print(distance_matrix)\n",
    "\n",
    "# Noveno: Inicializar el constructor del arbol (Tree Constructor)\n",
    "from Bio.Phylo.TreeConstruction import DistanceTreeConstructor\n",
    "constructor = DistanceTreeConstructor(calculator)\n",
    "\n",
    "# Decimo: Construir el arbol \n",
    "CSF1R_tree = constructor.build_tree(alignment)\n",
    "CSF1R_tree.rooted = True\n",
    "print(CSF1R_tree)\n",
    "\n",
    "# Guardar el arbol\n",
    "Phylo.write(CSF1R_tree, \"data/CSF1R_tree.xml\", \"phyloxml\")\n",
    "\n",
    "CSF1R_tree = Phylo.read(file=\"data/CSF1R_tree.xml\", format= \"phyloxml\")\n",
    "\n",
    "# Arbol elemental en Matplotlib\n",
    "import matplotlib\n",
    "import matplotlib.pyplot as plt\n",
    "\n",
    "# Por último, se realizan algunas modficaciones al gráfico\n",
    "fig = plt.figure(figsize=(13,5), dpi=100)  \n",
    "matplotlib.rc('font', size=12)              \n",
    "matplotlib.rc('xtick', labelsize=10)       \n",
    "matplotlib.rc('ytick', labelsize=10)       \n",
    "axes = fig.add_subplot(1, 1, 1)\n",
    "Phylo.draw(CSF1R_tree, axes=axes) "
   ]
  },
  {
   "cell_type": "markdown",
   "metadata": {},
   "source": [
    "El **gen CSF1R** proporciona las instrucciones para producir una proteína llamada Receptor del factor estimulante de colonias 1 (CSF-1). Esta proteína, codificada por este gen, es una citoquina que se encuentra en la membrana externa de algunos tipos de células y sirve para controlar la producción, diferenciación y función de los macrófagos. Por lo que, las mutaciones en este gen están asociadas con una predisposición a padecer una malignidad mieloide (cáncer de médula ósea). \n",
    "En el árbol filogenético realizado, se tomaron en cuenta los 10 primeros registros correspondientes a los IDs de accesión, además se está tratando especificamente de especies Animales. Como se puede visualizar el siguiente árbol filogenético representa las relaciones entre 10 especies, representadas con los IDs de accesión, los cuales se ubican en los extremos de las ramas del árbol:\n",
    "**AB457039.1, AB526448.1, AB546838.1, AF056985.1, AF056986.1, AF056987.1, AF056988.1, AF056989.1, AF056990.1, AF056991.1**, donde, el punto de ramificación que da origen a las especies *AB457039.1* y *AB526448.1*, se trata del ancestro común más reciente de ambas, posteriormente, la especie *AB546838.1* junto a las dos especies anteriores comparten un nodo en común, es decir, este pertenece al ancestro común más reciente entre las 3 especies, además, corresponden a peces en los cuales se emplea este gen para la expresión de marcadores. \n",
    "\n",
    "Por otra parte, la especie *AF056990.1* comparte ancestro en común con las especies de peces mencionadas anteriormente, no obstante, al tratarse de una especie *Homo* *sapiens*, se podría deducir que tienen cierta relación evolutiva porque el gen utilizado en los pescados se empleó solamente como un marcador, de acuerdo a lo mencionado en los estudios correspondientes.\n",
    "Para las especies de humanos *AF056985.1* y *AF056987.1*, ambas comparten un ancestro en común y la especie *AF056986.1* de igual manera comparte ancestro en común con las anteriores 2 especies. Después, la especie *AF056991.1* junto con las 3 especies anteriores comparte un nodo en común. Además, cabe señalar que estas especies coinciden en el mismo estudio titulado como \"Origin of adult-type pigment cells forming the asymmetric pigment pattern, in Japanese flounder (*Paralichthys olivaceus*)\".\n",
    "\n",
    "Por último, las especies *AF056989.1* y *AF056988.1*, el punto de ramificación parte desde la raíz del árbol, lo que se puede entender que este corresponde al ancestro en común entre estas 2 especies."
   ]
  },
  {
   "cell_type": "markdown",
   "metadata": {},
   "source": [
    "## Ejercicio 7 [1 punto]\n",
    "\n",
    "\n",
    "1. Cree en GitHub un repositorio de nombre ```GBI6_ExamenPython```. \n",
    "2. Cree un archivo ```Readme.md``` que debe tener lo siguiente: \n",
    "- Datos personales\n",
    "- Características del computador\n",
    "- Versión de Python/Anaconda y de cada uno de los módulos/paquetes y utilizados\n",
    "- Explicación de la data utilizada\n",
    "\n",
    "3. Cree un directorio de nombre ```data``` donde deben estar guardado la data utilizada \n",
    "4. Realice al menos 1 control de la versión (commits) por cada ejercicio (del 1 al 6), con un mensaje que inicie como: \n",
    "\n",
    "```sh \n",
    "Carlitos Alimaña ha realizado .....  \n",
    "```"
   ]
  }
 ],
 "metadata": {
  "kernelspec": {
   "display_name": "Python 3 (ipykernel)",
   "language": "python",
   "name": "python3"
  },
  "language_info": {
   "codemirror_mode": {
    "name": "ipython",
    "version": 3
   },
   "file_extension": ".py",
   "mimetype": "text/x-python",
   "name": "python",
   "nbconvert_exporter": "python",
   "pygments_lexer": "ipython3",
   "version": "3.9.7"
  },
  "latex_envs": {
   "LaTeX_envs_menu_present": true,
   "autoclose": false,
   "autocomplete": true,
   "bibliofile": "biblio.bib",
   "cite_by": "apalike",
   "current_citInitial": 1,
   "eqLabelWithNumbers": true,
   "eqNumInitial": 1,
   "hotkeys": {
    "equation": "Ctrl-E",
    "itemize": "Ctrl-I"
   },
   "labels_anchors": false,
   "latex_user_defs": false,
   "report_style_numbering": false,
   "user_envs_cfg": false
  },
  "toc": {
   "base_numbering": 1,
   "nav_menu": {},
   "number_sections": true,
   "sideBar": false,
   "skip_h1_title": false,
   "title_cell": "Table of Contents",
   "title_sidebar": "Contents",
   "toc_cell": false,
   "toc_position": {
    "height": "1152.67px",
    "left": "41px",
    "top": "110px",
    "width": "253.458px"
   },
   "toc_section_display": true,
   "toc_window_display": false
  },
  "varInspector": {
   "cols": {
    "lenName": 16,
    "lenType": 16,
    "lenVar": 40
   },
   "kernels_config": {
    "python": {
     "delete_cmd_postfix": "",
     "delete_cmd_prefix": "del ",
     "library": "var_list.py",
     "varRefreshCmd": "print(var_dic_list())"
    },
    "r": {
     "delete_cmd_postfix": ") ",
     "delete_cmd_prefix": "rm(",
     "library": "var_list.r",
     "varRefreshCmd": "cat(var_dic_list()) "
    }
   },
   "types_to_exclude": [
    "module",
    "function",
    "builtin_function_or_method",
    "instance",
    "_Feature"
   ],
   "window_display": false
  }
 },
 "nbformat": 4,
 "nbformat_minor": 4
}
