{
 "cells": [
  {
   "cell_type": "code",
   "execution_count": 112,
   "id": "16c7c50d",
   "metadata": {},
   "outputs": [
    {
     "name": "stdout",
     "output_type": "stream",
     "text": [
      "Requirement already satisfied: biopython in c:\\users\\usuario\\anaconda3\\lib\\site-packages (1.79)\n",
      "Requirement already satisfied: numpy in c:\\users\\usuario\\anaconda3\\lib\\site-packages (from biopython) (1.20.3)\n"
     ]
    }
   ],
   "source": [
    "# Importar los paquetes principales\n",
    "\n",
    "!pip install biopython \n",
    "from Bio import SeqIO\n",
    "from Bio import AlignIO\n",
    "from Bio import Phylo\n",
    "from Bio import Entrez "
   ]
  },
  {
   "cell_type": "code",
   "execution_count": 109,
   "id": "0653fef6",
   "metadata": {
    "scrolled": false
   },
   "outputs": [
    {
     "data": {
      "text/html": [
       "<div>\n",
       "<style scoped>\n",
       "    .dataframe tbody tr th:only-of-type {\n",
       "        vertical-align: middle;\n",
       "    }\n",
       "\n",
       "    .dataframe tbody tr th {\n",
       "        vertical-align: top;\n",
       "    }\n",
       "\n",
       "    .dataframe thead th {\n",
       "        text-align: right;\n",
       "    }\n",
       "</style>\n",
       "<table border=\"1\" class=\"dataframe\">\n",
       "  <thead>\n",
       "    <tr style=\"text-align: right;\">\n",
       "      <th></th>\n",
       "      <th>AB457039.1</th>\n",
       "    </tr>\n",
       "  </thead>\n",
       "  <tbody>\n",
       "    <tr>\n",
       "      <th>0</th>\n",
       "      <td>AB526448.1</td>\n",
       "    </tr>\n",
       "    <tr>\n",
       "      <th>1</th>\n",
       "      <td>AB546838.1</td>\n",
       "    </tr>\n",
       "    <tr>\n",
       "      <th>2</th>\n",
       "      <td>AF056985.1</td>\n",
       "    </tr>\n",
       "    <tr>\n",
       "      <th>3</th>\n",
       "      <td>AF056986.1</td>\n",
       "    </tr>\n",
       "    <tr>\n",
       "      <th>4</th>\n",
       "      <td>AF056987.1</td>\n",
       "    </tr>\n",
       "    <tr>\n",
       "      <th>...</th>\n",
       "      <td>...</td>\n",
       "    </tr>\n",
       "    <tr>\n",
       "      <th>1502</th>\n",
       "      <td>XM_046460474.1</td>\n",
       "    </tr>\n",
       "    <tr>\n",
       "      <th>1503</th>\n",
       "      <td>XM_046665254.1</td>\n",
       "    </tr>\n",
       "    <tr>\n",
       "      <th>1504</th>\n",
       "      <td>XM_546306.7</td>\n",
       "    </tr>\n",
       "    <tr>\n",
       "      <th>1505</th>\n",
       "      <td>XR_001310203.1</td>\n",
       "    </tr>\n",
       "    <tr>\n",
       "      <th>1506</th>\n",
       "      <td>XR_004425968.1</td>\n",
       "    </tr>\n",
       "  </tbody>\n",
       "</table>\n",
       "<p>1507 rows × 1 columns</p>\n",
       "</div>"
      ],
      "text/plain": [
       "          AB457039.1\n",
       "0         AB526448.1\n",
       "1         AB546838.1\n",
       "2         AF056985.1\n",
       "3         AF056986.1\n",
       "4         AF056987.1\n",
       "...              ...\n",
       "1502  XM_046460474.1\n",
       "1503  XM_046665254.1\n",
       "1504     XM_546306.7\n",
       "1505  XR_001310203.1\n",
       "1506  XR_004425968.1\n",
       "\n",
       "[1507 rows x 1 columns]"
      ]
     },
     "execution_count": 109,
     "metadata": {},
     "output_type": "execute_result"
    }
   ],
   "source": [
    "# Cargar el Accesion list de la búsqueda realizada en el NCBI\n",
    "# gen de interés: CSF1R\n",
    "import pandas as pd \n",
    "genfile = pd.read_table('CSF1R.seq')\n",
    "genfile"
   ]
  },
  {
   "cell_type": "code",
   "execution_count": 63,
   "id": "a6a553dd",
   "metadata": {},
   "outputs": [
    {
     "name": "stdout",
     "output_type": "stream",
     "text": [
      "AB457039.1 Paralichthys olivaceus csf1r mRNA for colony stimu...\n",
      "Sequence length 762, 3 features, from: Paralichthys olivaceus (Japanese flounder)\n",
      "AB526448.1 Cyprinus carpio M-CSFR mRNA for macrophage colony-...\n",
      "Sequence length 1495, 3 features, from: Cyprinus carpio (common carp)\n",
      "AB546838.1 Paralichthys olivaceus csf1r mRNA for colony stimu...\n",
      "Sequence length 714, 3 features, from: Paralichthys olivaceus (Japanese flounder)\n",
      "AF056985.1 AF056985 Chromosome 5q33 transcripts Homo sapiens ...\n",
      "Sequence length 181, 1 features, from: Homo sapiens (human)\n",
      "AF056986.1 AF056986 Chromosome 5q33 transcripts Homo sapiens ...\n",
      "Sequence length 132, 1 features, from: Homo sapiens (human)\n",
      "AF056987.1 AF056987 Chromosome 5q33 transcripts Homo sapiens ...\n",
      "Sequence length 300, 1 features, from: Homo sapiens (human)\n",
      "AF056988.1 AF056988 Chromosome 5q33 transcripts Homo sapiens ...\n",
      "Sequence length 166, 1 features, from: Homo sapiens (human)\n",
      "AF056989.1 AF056989 Chromosome 5q33 transcripts Homo sapiens ...\n",
      "Sequence length 284, 1 features, from: Homo sapiens (human)\n",
      "AF056990.1 AF056990 Chromosome 5q33 transcripts Homo sapiens ...\n",
      "Sequence length 155, 1 features, from: Homo sapiens (human)\n",
      "AF056991.1 AF056991 Chromosome 5q33 transcripts Homo sapiens ...\n",
      "Sequence length 176, 1 features, from: Homo sapiens (human)\n"
     ]
    }
   ],
   "source": [
    "# Descargar la data tipo genbank utilizando los diez primeros IDs de accesión\n",
    "id_list = [\"AB457039.1\",\"AB526448.1\",\"AB546838.1\",\"AF056985.1\",\"AF056986.1\",\"AF056987.1\",\"AF056988.1\",\"AF056989.1\",\"AF056990.1\",\"AF056991.1\"]\n",
    "Entrez.email = \"kerly.diaz@est.ikiam.edu.ec\"\n",
    "with Entrez.efetch( db=\"nucleotide\", rettype=\"gb\", retmode=\"text\", id= id_list\n",
    "                  ) as handle:\n",
    "    for seq_record in SeqIO.parse(handle, \"gb\"):\n",
    "        print(\"%s %s...\" % (seq_record.id, seq_record.description[:50]))\n",
    "        print(\"Sequence length %i, %i features, from: %s\" % ( len(seq_record), \n",
    "                                                              len(seq_record.features), \n",
    "                                                              seq_record.annotations[\"source\"], ) )"
   ]
  },
  {
   "cell_type": "code",
   "execution_count": 64,
   "id": "854d7b78",
   "metadata": {},
   "outputs": [
    {
     "name": "stdout",
     "output_type": "stream",
     "text": [
      "https://eutils.ncbi.nlm.nih.gov/entrez/eutils/efetch.fcgi?db=nucleotide&rettype=gb&retmode=text&id=AB457039.1%2CAB526448.1%2CAB546838.1%2CAF056985.1%2CAF056986.1%2CAF056987.1%2CAF056988.1%2CAF056989.1%2CAF056990.1%2CAF056991.1&tool=biopython&email=kerly.diaz%40est.ikiam.edu.ec\n"
     ]
    }
   ],
   "source": [
    "print(handle.url)"
   ]
  },
  {
   "cell_type": "code",
   "execution_count": 65,
   "id": "f112ac76",
   "metadata": {},
   "outputs": [],
   "source": [
    "# Árbol filogenético \n",
    "# Alineamiento de secuencias\n",
    "# Primero: Importar modulos\n",
    "from Bio.Align.Applications import ClustalwCommandline\n",
    "import os"
   ]
  },
  {
   "cell_type": "code",
   "execution_count": 66,
   "id": "e1d9ffb2",
   "metadata": {},
   "outputs": [
    {
     "name": "stdout",
     "output_type": "stream",
     "text": [
      "Converted 10 records\n"
     ]
    }
   ],
   "source": [
    "# Segundo: Transformacion de tipos de archivos\n",
    "records = SeqIO.parse(\"sequence.gb\", \"genbank\") \n",
    "count = SeqIO.write(records, \"sequence.fasta\", \"fasta\") \n",
    "print(\"Converted %i records\" % count)"
   ]
  },
  {
   "cell_type": "code",
   "execution_count": 67,
   "id": "374c785b",
   "metadata": {},
   "outputs": [
    {
     "name": "stdout",
     "output_type": "stream",
     "text": [
      "\"C:\\Program Files (x86)\\ClustalW2\\clustalw2.exe\" -infile=sequence.fasta\n"
     ]
    }
   ],
   "source": [
    "# Tercero: Cargar data multiple y crear alineamientos\n",
    "clustalw_exe = r\"C:\\Program Files (x86)\\ClustalW2\\clustalw2.exe\" \n",
    "clustalw_cline = ClustalwCommandline(clustalw_exe, infile = \"sequence.fasta\")\n",
    "assert os.path.isfile(clustalw_exe), \"Clustal_W executable is missing or not found\"\n",
    "stdout, stderr = clustalw_cline()\n",
    "print(clustalw_cline)"
   ]
  },
  {
   "cell_type": "code",
   "execution_count": 68,
   "id": "28c841c8",
   "metadata": {},
   "outputs": [
    {
     "name": "stdout",
     "output_type": "stream",
     "text": [
      "Alignment with 10 rows and 1741 columns\n",
      "--------------------------------------------...--- AB457039.1\n",
      "CTCACCGCGGTCTGTCCATCGAGGTTAACGAAGGCGAAGATGTG...--- AB526448.1\n",
      "--------------------------------------------...CCA AB546838.1\n",
      "--------------------------------------------...--- AF056990.1\n",
      "--------------------------------------------...--- AF056986.1\n",
      "--------------------------------------------...--- AF056985.1\n",
      "--------------------------------------------...--- AF056987.1\n",
      "--------------------------------------------...--- AF056991.1\n",
      "--------------------------------------------...--- AF056988.1\n",
      "--------------------------------------------...--- AF056989.1\n"
     ]
    }
   ],
   "source": [
    "# Cuarto: Leer alineamiento\n",
    "ClustalAlign = AlignIO.read(\"sequence.aln\", \"clustal\")\n",
    "print(ClustalAlign)"
   ]
  },
  {
   "cell_type": "code",
   "execution_count": 9,
   "id": "702d6286",
   "metadata": {},
   "outputs": [
    {
     "name": "stdout",
     "output_type": "stream",
     "text": [
      "                                             _______________ AB457039.1\n",
      "                                    ________|\n",
      "          _________________________|        |___________________ AB526448.1\n",
      "         |                         |\n",
      "  _______|                         |___________________________ AB546838.1\n",
      " |       |\n",
      " |       |__________________________________________________ AF056990.1\n",
      " |\n",
      " |         ______________________________________________________ AF056985.1\n",
      " |      __|\n",
      " |   __|  |_______________________________________________________ AF056987.1\n",
      "_|  |  |\n",
      " |__|  |______________________________________________________ AF056986.1\n",
      " |  |\n",
      " |  |___________________________________________________________ AF056991.1\n",
      " |\n",
      " |____________________________________________________________ AF056989.1\n",
      " |\n",
      " |_____________________________________________________________ AF056988.1\n",
      "\n"
     ]
    }
   ],
   "source": [
    "# Quinto: Generar Dendogram (Tree)\n",
    "tree = Phylo.read(\"sequence.dnd\", \"newick\")\n",
    "Phylo.draw_ascii(tree)"
   ]
  },
  {
   "cell_type": "code",
   "execution_count": 69,
   "id": "640e3fef",
   "metadata": {},
   "outputs": [
    {
     "name": "stdout",
     "output_type": "stream",
     "text": [
      "Requirement already satisfied: PyDot in c:\\users\\usuario\\anaconda3\\lib\\site-packages (1.4.2)\n",
      "Requirement already satisfied: pyparsing>=2.1.4 in c:\\users\\usuario\\anaconda3\\lib\\site-packages (from PyDot) (3.0.4)\n"
     ]
    }
   ],
   "source": [
    "! pip install PyDot"
   ]
  },
  {
   "cell_type": "code",
   "execution_count": 70,
   "id": "f07b6c00",
   "metadata": {},
   "outputs": [
    {
     "name": "stdout",
     "output_type": "stream",
     "text": [
      "<class 'Bio.Align.MultipleSeqAlignment'>\n"
     ]
    }
   ],
   "source": [
    "# Sexto: Cargar alineamiento \n",
    "with open(\"sequence.aln\",\"r\") as aln: \n",
    "    alignment = AlignIO.read(aln,\"clustal\")\n",
    "print(type(alignment))"
   ]
  },
  {
   "cell_type": "code",
   "execution_count": 71,
   "id": "f598ff71",
   "metadata": {},
   "outputs": [],
   "source": [
    "# Septimo: Inicializar la calculadora de Distancias y del modelo \n",
    "from Bio.Phylo.TreeConstruction import DistanceCalculator \n",
    "calculator = DistanceCalculator('identity')"
   ]
  },
  {
   "cell_type": "code",
   "execution_count": 13,
   "id": "1afd97df",
   "metadata": {},
   "outputs": [
    {
     "name": "stdout",
     "output_type": "stream",
     "text": [
      "AB457039.1\t0\n",
      "AB526448.1\t0.5623205054566341\t0\n",
      "AB546838.1\t0.27570361860999426\t0.8024124066628374\t0\n",
      "AF056990.1\t0.39804709936817917\t0.8242389431361287\t0.36990235496840895\t0\n",
      "AF056986.1\t0.4129810453762206\t0.8322802986789202\t0.3854106835152211\t0.06892590465249859\t0\n",
      "AF056985.1\t0.41068351522113733\t0.8271108558299828\t0.38311315336013785\t0.07926479035037337\t0.07983917288914422\t0\n",
      "AF056987.1\t0.41355542791499134\t0.8431935669155658\t0.3687535898908674\t0.14819069500287196\t0.1568064330844342\t0.13038483630097641\t0\n",
      "AF056991.1\t0.41355542791499134\t0.832854681217691\t0.3865594485927628\t0.07294658242389429\t0.07581849511774841\t0.09075244112578973\t0.14244686961516373\t0\n",
      "AF056988.1\t0.41355542791499134\t0.8282596209075244\t0.38598506605399197\t0.06892590465249859\t0.07122343480758186\t0.08271108558299822\t0.14417001723147616\t0.07926479035037337\t0\n",
      "AF056989.1\t0.39632395175186674\t0.8104537622056289\t0.3681792073520965\t0.13383113153360138\t0.13900057438253877\t0.128661688684664\t0.14933946008041354\t0.12981045376220568\t0.13383113153360138\t0\n",
      "\tAB457039.1\tAB526448.1\tAB546838.1\tAF056990.1\tAF056986.1\tAF056985.1\tAF056987.1\tAF056991.1\tAF056988.1\tAF056989.1\n"
     ]
    }
   ],
   "source": [
    "# Octavo: Matriz de Distancias \n",
    "distance_matrix = calculator.get_distance(alignment)\n",
    "print(distance_matrix)"
   ]
  },
  {
   "cell_type": "code",
   "execution_count": 72,
   "id": "4a37bc3f",
   "metadata": {},
   "outputs": [],
   "source": [
    "# Noveno: Inicializar el constructor del arbol (Tree Constructor)\n",
    "from Bio.Phylo.TreeConstruction import DistanceTreeConstructor\n",
    "constructor = DistanceTreeConstructor(calculator)"
   ]
  },
  {
   "cell_type": "code",
   "execution_count": 73,
   "id": "5d6c8dbe",
   "metadata": {},
   "outputs": [
    {
     "name": "stdout",
     "output_type": "stream",
     "text": [
      "Tree(rooted=True)\n",
      "    Clade(branch_length=0, name='Inner8')\n",
      "        Clade(branch_length=0.0008884979896611189, name='Inner7')\n",
      "            Clade(branch_length=0.0012474870763928628, name='Inner6')\n",
      "                Clade(branch_length=0.03962042887229561, name='AF056991.1')\n",
      "                Clade(branch_length=0.009399530920926685, name='Inner5')\n",
      "                    Clade(branch_length=0.03654508902929349, name='AF056985.1')\n",
      "                    Clade(branch_length=0.024088167719701313, name='Inner4')\n",
      "                        Clade(branch_length=0.07572515795519816, name='AF056987.1')\n",
      "                        Clade(branch_length=0.00533457782883405, name='Inner3')\n",
      "                            Clade(branch_length=0.060561458931648465, name='AF056989.1')\n",
      "                            Clade(branch_length=0.15569356691556574, name='Inner2')\n",
      "                                Clade(branch_length=0.10841470419299254, name='Inner1')\n",
      "                                    Clade(branch_length=0.0645103388856978, name='AB457039.1')\n",
      "                                    Clade(branch_length=0.49781016657093635, name='AB526448.1')\n",
      "                                Clade(branch_length=0.14948305571510623, name='AB546838.1')\n",
      "            Clade(branch_length=0.03242568925904654, name='AF056990.1')\n",
      "        Clade(branch_length=0.03548607122343482, name='AF056986.1')\n",
      "        Clade(branch_length=0.035737363584147044, name='AF056988.1')\n"
     ]
    }
   ],
   "source": [
    "# Decimo: Construir el arbol \n",
    "CSF1R_tree = constructor.build_tree(alignment)\n",
    "CSF1R_tree.rooted = True\n",
    "print(CSF1R_tree)"
   ]
  },
  {
   "cell_type": "code",
   "execution_count": 74,
   "id": "c9d73b33",
   "metadata": {},
   "outputs": [
    {
     "data": {
      "text/plain": [
       "1"
      ]
     },
     "execution_count": 74,
     "metadata": {},
     "output_type": "execute_result"
    }
   ],
   "source": [
    "# Guardar el arbol\n",
    "Phylo.write(CSF1R_tree, \"CSF1R_tree.xml\", \"phyloxml\")"
   ]
  },
  {
   "cell_type": "code",
   "execution_count": 75,
   "id": "a9e6aecb",
   "metadata": {},
   "outputs": [],
   "source": [
    "CSF1R_tree = Phylo.read(file=\"CSF1R_tree.xml\", format= \"phyloxml\")"
   ]
  },
  {
   "cell_type": "code",
   "execution_count": 76,
   "id": "e3fb5d3b",
   "metadata": {},
   "outputs": [],
   "source": [
    "# Arbol elemental en Matplotlib\n",
    "import matplotlib\n",
    "import matplotlib.pyplot as plt"
   ]
  },
  {
   "cell_type": "code",
   "execution_count": 100,
   "id": "5113da06",
   "metadata": {},
   "outputs": [
    {
     "data": {
      "image/png": "[encoded data removed]",
      "text/plain": [
       "<Figure size 1300x500 with 1 Axes>"
      ]
     },
     "metadata": {
      "needs_background": "light"
     },
     "output_type": "display_data"
    }
   ],
   "source": [
    "fig = plt.figure(figsize=(13,5), dpi=100)  \n",
    "matplotlib.rc('font', size=10)              \n",
    "matplotlib.rc('xtick', labelsize=10)      \n",
    "matplotlib.rc('ytick', labelsize=10)       \n",
    "axes = fig.add_subplot(1, 1, 1)\n",
    "Phylo.draw(CSF1R_tree, axes=axes)"
   ]
  },
  {
   "cell_type": "code",
   "execution_count": null,
   "id": "532b2977",
   "metadata": {},
   "outputs": [],
   "source": []
  }
 ],
 "metadata": {
  "kernelspec": {
   "display_name": "Python 3 (ipykernel)",
   "language": "python",
   "name": "python3"
  },
  "language_info": {
   "codemirror_mode": {
    "name": "ipython",
    "version": 3
   },
   "file_extension": ".py",
   "mimetype": "text/x-python",
   "name": "python",
   "nbconvert_exporter": "python",
   "pygments_lexer": "ipython3",
   "version": "3.9.7"
  }
 },
 "nbformat": 4,
 "nbformat_minor": 5
}
